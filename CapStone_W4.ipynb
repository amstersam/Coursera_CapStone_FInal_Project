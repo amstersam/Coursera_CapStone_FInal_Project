{
 "cells": [
  {
   "cell_type": "markdown",
   "metadata": {},
   "source": [
    "# **Capstone Project The Battle of Neighborhoods (Week 1)**"
   ]
  },
  {
   "cell_type": "markdown",
   "metadata": {},
   "source": [
    "### **Introduction**"
   ]
  },
  {
   "cell_type": "markdown",
   "metadata": {},
   "source": [
    "Athens and Thessaloniki are the two major cities in Greece. Together, they are inhibitted by the 50% of the greek population. Both cities were struck by the financial crisis but recently have started to come back in all sorts of aspects such as the residential, tourism, education and job employment. "
   ]
  },
  {
   "cell_type": "markdown",
   "metadata": {},
   "source": [
    "They have also an extended history over the centuries and as such they attract tourist both from abroad and within. "
   ]
  },
  {
   "cell_type": "markdown",
   "metadata": {},
   "source": [
    "### **Obejective**"
   ]
  },
  {
   "cell_type": "markdown",
   "metadata": {},
   "source": [
    "In this project, we will aim to to study:\n",
    "    1. the similarity or dissimilarity of both cities\n",
    "    2. classification of the areas inside the city to determine \n",
    "    whether it is suitable for locals or it is more touristic"
   ]
  },
  {
   "cell_type": "markdown",
   "metadata": {},
   "source": [
    "To achieve that we will utilize data from Foursquare and use Machine Learning \n",
    "techniques such as clustering and sqgmentation."
   ]
  },
  {
   "cell_type": "markdown",
   "metadata": {},
   "source": [
    "### **Data**"
   ]
  },
  {
   "cell_type": "markdown",
   "metadata": {},
   "source": [
    "The data was collected from a greek webpage specializing in information \n",
    "'https://www.xo.gr/greek-postal-codes-zips'.\n",
    "\n",
    "As next step, the data was cleaned and saved in csv files in order to be easy to handle.\n",
    "\n",
    "The data sets to be used can be found in the project reposritory:\n",
    "    1. Athens - 'https://github.com/amstersam/Coursera_CapStone_FInal_Project/blob/master/Athens.csv'\n",
    "    2. Thessaloniki - 'https://github.com/amstersam/Coursera_CapStone_FInal_Project/blob/master/Thessaloniki.csv'"
   ]
  },
  {
   "cell_type": "markdown",
   "metadata": {},
   "source": [
    "As mentioned before the Foursquare data will be of great significance to indicate some patterns or have some predictive value, which be compared from our personal experience having lived in both cities for several years."
   ]
  },
  {
   "cell_type": "code",
   "execution_count": null,
   "metadata": {},
   "outputs": [],
   "source": []
  }
 ],
 "metadata": {
  "kernelspec": {
   "display_name": "Python 3",
   "language": "python",
   "name": "python3"
  },
  "language_info": {
   "codemirror_mode": {
    "name": "ipython",
    "version": 3
   },
   "file_extension": ".py",
   "mimetype": "text/x-python",
   "name": "python",
   "nbconvert_exporter": "python",
   "pygments_lexer": "ipython3",
   "version": "3.6.8"
  }
 },
 "nbformat": 4,
 "nbformat_minor": 2
}
